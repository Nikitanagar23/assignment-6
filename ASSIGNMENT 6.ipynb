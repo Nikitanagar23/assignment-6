{
 "cells": [
  {
   "cell_type": "code",
   "execution_count": 1,
   "id": "7805234f-bb00-48fd-a0fa-2ed0c786f18f",
   "metadata": {
    "tags": []
   },
   "outputs": [],
   "source": [
    "#OOPS ASSIGNMENT"
   ]
  },
  {
   "cell_type": "code",
   "execution_count": 3,
   "id": "346c6327-26b5-4078-b6ad-47461e3dc9e9",
   "metadata": {
    "tags": []
   },
   "outputs": [],
   "source": [
    "#PROBLEM 1"
   ]
  },
  {
   "cell_type": "code",
   "execution_count": 5,
   "id": "a767cdf7-b56e-413b-8a4b-b6c306a74f9a",
   "metadata": {
    "tags": []
   },
   "outputs": [],
   "source": [
    "\"\"\"BANK ACCOUNT CREATE A CLASS REPRESENTING A BANK ACCOUNT WITH ATTRIBUTES LIKE ACCOUNT NUMBER,ACCOUNT HOLDER NAME\n",
    "AND BALANCE. IMPLEMENT METHODS TO DEPOSIT AND WITHDRAW MONEY FROM THE ACCOUNT"
   ]
  },
  {
   "cell_type": "code",
   "execution_count": 13,
   "id": "4746d2f7-5663-45a4-848f-e1260e9d29c4",
   "metadata": {},
   "outputs": [
    {
     "name": "stdout",
     "output_type": "stream",
     "text": [
      "The current balance is:800\n"
     ]
    }
   ],
   "source": [
    "class BankAccount:\n",
    "    def __init__(self,account_number,account_holder_name,balance=0):\n",
    "        self.account_number = account_number\n",
    "        self.account_holder_name=account_holder_name\n",
    "        self.balance=balance\n",
    "    def deposit(self,amount):\n",
    "        self.balance+=amount\n",
    "        return self.balance\n",
    "    def withdraw(self,amount):\n",
    "        if amount>self.balance:\n",
    "            print(\"Insufficient funds!\")\n",
    "        else:\n",
    "            self.balance-= amount \n",
    "            return self.balance\n",
    "account = BankAccount(\"123456789\",\"Nikita Nagar\",1000)\n",
    "account.withdraw(200)\n",
    "balance=account.balance\n",
    "print(f\"The current balance is:{balance}\")"
   ]
  },
  {
   "cell_type": "code",
   "execution_count": null,
   "id": "807b952c-31f5-4303-a2a8-32eb62e9be5a",
   "metadata": {},
   "outputs": [],
   "source": []
  },
  {
   "cell_type": "code",
   "execution_count": null,
   "id": "9358a1ca-a6a7-4be2-9857-11209f3b7a81",
   "metadata": {},
   "outputs": [],
   "source": []
  },
  {
   "cell_type": "code",
   "execution_count": 6,
   "id": "799c4c66-c43a-4b37-bddb-548ab1a56491",
   "metadata": {
    "tags": []
   },
   "outputs": [],
   "source": [
    "#PROBLEM 2"
   ]
  },
  {
   "cell_type": "code",
   "execution_count": null,
   "id": "d9c79cae-05a6-4f09-9246-8990cf9f0aab",
   "metadata": {},
   "outputs": [],
   "source": [
    "\"\"\"EMPLOYEE MANAGEMENT CREATE A CLASS REPRESENTING AN EMPLOYEE WITH ATTRIBUTES LIKE EMPLOYEE WITH ATTRIBUTES LIKE \n",
    "EMPLOYEE ID, NAME AND SALARY. IMPLEMENT METHODS TO CALCULATE THE YEARLY BONUS AND DISPLAY EMPLOYEE DETAILS."
   ]
  },
  {
   "cell_type": "code",
   "execution_count": 21,
   "id": "6a0e5d0f-08d3-4894-ba2d-11bdbd9372b8",
   "metadata": {},
   "outputs": [
    {
     "name": "stdout",
     "output_type": "stream",
     "text": [
      "Employee Details:\n",
      "ID:E001\n",
      "Namejohn doe\n",
      "Salary:50000\n",
      "Yearly bonus:5000.0\n"
     ]
    }
   ],
   "source": [
    "class Employee:\n",
    "    def __init__(self,employee_id,name,salary):\n",
    "        self.employee_id=employee_id\n",
    "        self.name=name\n",
    "        self.salary=salary\n",
    "    def calculate_yearly_bonus(self):\n",
    "        bonus_percentage=0.1\n",
    "        yearly_bonus=self.salary*bonus_percentage\n",
    "        return yearly_bonus\n",
    "    def display_employee_details(self):\n",
    "        print(\"Employee Details:\")\n",
    "        print(f\"ID:{self.employee_id}\")\n",
    "        print(f\"Name{self.name}\")\n",
    "        print(f\"Salary:{self.salary}\")\n",
    "        print(f\"Yearly bonus:{self.calculate_yearly_bonus()}\")\n",
    "employee1 = Employee(\"E001\",\"john doe\",50000)\n",
    "employee1.display_employee_details()"
   ]
  },
  {
   "cell_type": "code",
   "execution_count": null,
   "id": "c29c1211-d9a0-4584-beac-2c4c20e7a697",
   "metadata": {},
   "outputs": [],
   "source": []
  },
  {
   "cell_type": "code",
   "execution_count": null,
   "id": "6a7cf290-6637-42f2-b18e-8a0b2a1479ac",
   "metadata": {},
   "outputs": [],
   "source": []
  },
  {
   "cell_type": "code",
   "execution_count": 7,
   "id": "be542725-de62-4566-a295-7320edf97a5a",
   "metadata": {
    "tags": []
   },
   "outputs": [],
   "source": [
    "#PROBLEM 3"
   ]
  },
  {
   "cell_type": "code",
   "execution_count": 10,
   "id": "f6e8cad3-c801-451b-8bb3-ae78257fa207",
   "metadata": {
    "tags": []
   },
   "outputs": [],
   "source": [
    "\"\"\"VEHICLE RENTAL CREATE A CLASS REPRESENTING A VEHICLE RENTAL SYSTEM, IMPLEMENT METHODS TO RENT A VEHICLE, RETURN\n",
    "A VICHELE, AND DISPLAY AVAILABLE VEHICLES."
   ]
  },
  {
   "cell_type": "code",
   "execution_count": 22,
   "id": "bb3512d7-0f98-462c-8b40-3e89a48dc46a",
   "metadata": {},
   "outputs": [
    {
     "ename": "AttributeError",
     "evalue": "'VehiclesRentalSystem' object has no attribute 'add_vehicle'",
     "output_type": "error",
     "traceback": [
      "\u001b[1;31m---------------------------------------------------------------------------\u001b[0m",
      "\u001b[1;31mAttributeError\u001b[0m                            Traceback (most recent call last)",
      "Cell \u001b[1;32mIn[22], line 17\u001b[0m\n\u001b[0;32m     15\u001b[0m             \u001b[38;5;28;01mreturn\u001b[39;00m \u001b[38;5;124mf\u001b[39m\u001b[38;5;124m\"\u001b[39m\u001b[38;5;124mAvailable vehicles:\u001b[39m\u001b[38;5;132;01m{\u001b[39;00m\u001b[38;5;124m'\u001b[39m\u001b[38;5;124m,\u001b[39m\u001b[38;5;124m'\u001b[39m\u001b[38;5;241m.\u001b[39mjoin(\u001b[38;5;28mself\u001b[39m\u001b[38;5;241m.\u001b[39mavailable_vehicles)\u001b[38;5;132;01m}\u001b[39;00m\u001b[38;5;124m\"\u001b[39m\n\u001b[0;32m     16\u001b[0m rental_system \u001b[38;5;241m=\u001b[39m VehiclesRentalSystem()\n\u001b[1;32m---> 17\u001b[0m rental_system\u001b[38;5;241m.\u001b[39madd_vehicle(\u001b[38;5;124m\"\u001b[39m\u001b[38;5;124mCar\u001b[39m\u001b[38;5;124m\"\u001b[39m)\n\u001b[0;32m     18\u001b[0m rental_system\u001b[38;5;241m.\u001b[39madd_vehicle(\u001b[38;5;124m\"\u001b[39m\u001b[38;5;124mBike\u001b[39m\u001b[38;5;124m\"\u001b[39m)\n\u001b[0;32m     19\u001b[0m rental_system\u001b[38;5;241m.\u001b[39madd_vehicle(\u001b[38;5;124m\"\u001b[39m\u001b[38;5;124mScooter\u001b[39m\u001b[38;5;124m\"\u001b[39m)\n",
      "\u001b[1;31mAttributeError\u001b[0m: 'VehiclesRentalSystem' object has no attribute 'add_vehicle'"
     ]
    }
   ],
   "source": [
    "class VehiclesRentalSystem:\n",
    "    def __init__(self):\n",
    "        self.available_vehicles=[]\n",
    "    def rent_vehicle(self,vehicle):\n",
    "        if vehicle in self.available_vehicles:\n",
    "            self.available_vehicles.remove(vehicle)\n",
    "            print(f\"You have rented{vehicle}.Enjoy your ride!\")\n",
    "            return f\"You've successfully rented {vehicle}!\"\n",
    "        else:\n",
    "            return f\"Sorry,{vehicles} isn't available right now.\"\n",
    "        def return_vehicle(self,vehicle):\n",
    "            self.available_vehicles.append(vehicle)\n",
    "            return f\"You've successfully returned {vehicle}!\"\n",
    "        def display_available_vehicles(self):\n",
    "            return f\"Available vehicles:{','.join(self.available_vehicles)}\"\n",
    "rental_system = VehiclesRentalSystem()\n",
    "rental_system.add_vehicle(\"Car\")\n",
    "rental_system.add_vehicle(\"Bike\")\n",
    "rental_system.add_vehicle(\"Scooter\")\n",
    "rented_vehicle=rental_system.rent_vehicle(\"Car\")\n",
    "print(rented_vehicle)\n",
    "available_vehicles = rental_system.display_available_vehicles()\n",
    "print(available_vehicles)\n",
    "returned_vehicle=rental_system.rental_vehicle(\"car\")\n",
    "print(returned_vehicle)\n",
    "available_vehicles = rental_system.display_available_vehicles()\n",
    "print(available_vehicles)"
   ]
  },
  {
   "cell_type": "code",
   "execution_count": null,
   "id": "6a0ea17c-f24c-4544-be8f-77c27df3ce84",
   "metadata": {},
   "outputs": [],
   "source": []
  },
  {
   "cell_type": "code",
   "execution_count": null,
   "id": "3df8bf54-801d-41e7-b4b3-96d058a4c9a2",
   "metadata": {},
   "outputs": [],
   "source": []
  },
  {
   "cell_type": "code",
   "execution_count": null,
   "id": "2d0aab0a-c1f2-490a-a8fd-7d84f47ca48b",
   "metadata": {},
   "outputs": [],
   "source": [
    "#PROBLEM 4"
   ]
  },
  {
   "cell_type": "code",
   "execution_count": null,
   "id": "3a629a6b-56ea-4176-aeb9-861035a2426e",
   "metadata": {},
   "outputs": [],
   "source": [
    "\"\"\" LIBRARY CATALOG CREATE CLASSES REPRESENTING A LIBRARY AN A BOOK, IMPLEMENT METHODS TO ADD BOOKS TO THE LIBRARY\n",
    "BORROW BOOLS AND DISPLAY AVAILABLE BOOKS."
   ]
  },
  {
   "cell_type": "code",
   "execution_count": 29,
   "id": "deca5802-c2a6-41d3-8a9f-c917e8380e21",
   "metadata": {},
   "outputs": [
    {
     "name": "stdout",
     "output_type": "stream",
     "text": [
      "Book\"1984\"added to the library!\n",
      "Book\"To kill a Mockingbird\"added to the library!\n",
      "Books available in the library:\n",
      "Title:\"1984\",Author:\"George Orwell\"\n",
      "Title:\"To kill a Mockingbird\",Author:\"Haper lee\"\n",
      "You borrowed \"1984\"! Enjoy your reading!\n",
      "Books available in the library:\n",
      "Title:\"To kill a Mockingbird\",Author:\"Haper lee\"\n"
     ]
    }
   ],
   "source": [
    "class Book:\n",
    "    def __init__(self,title,author):\n",
    "        self.title=title\n",
    "        self.author=author\n",
    "class Library:\n",
    "    def __init__(self):\n",
    "        self.books=[]\n",
    "    def add_book(self,book):\n",
    "        self.books.append(book)\n",
    "        print(f'Book\"{book.title}\"added to the library!')\n",
    "    def borrow_book(self,title):\n",
    "        for book in self.books:\n",
    "            if book.title==title:\n",
    "                self.books.remove(book)\n",
    "            print(f'You borrowed \"{book.title}\"! Enjoy your reading!')\n",
    "            return\n",
    "        print('Sorry, this book is not available.')\n",
    "    def display_books(self):\n",
    "        print('Books available in the library:')\n",
    "        for book in self.books:\n",
    "            print(f'Title:\"{book.title}\",Author:\"{book.author}\"')\n",
    "library = Library()\n",
    "book1 = Book('1984','George Orwell')\n",
    "book2 = Book('To kill a Mockingbird','Haper lee')\n",
    "library.add_book(book1)\n",
    "library.add_book(book2)\n",
    "library.display_books()\n",
    "library.borrow_book('1984')\n",
    "library.display_books()\n",
    "        \n",
    "    \n",
    "                 "
   ]
  },
  {
   "cell_type": "code",
   "execution_count": null,
   "id": "fad25aaf-9a56-47d1-9fa4-846c913eb486",
   "metadata": {},
   "outputs": [],
   "source": [
    "\n"
   ]
  },
  {
   "cell_type": "code",
   "execution_count": null,
   "id": "a83e18e3-cb53-425a-8c32-9324c24abfab",
   "metadata": {},
   "outputs": [],
   "source": []
  },
  {
   "cell_type": "code",
   "execution_count": 11,
   "id": "f2915bd6-8e5a-479c-bb2f-de30069af516",
   "metadata": {
    "tags": []
   },
   "outputs": [],
   "source": [
    "#PROBLEM 5"
   ]
  },
  {
   "cell_type": "code",
   "execution_count": null,
   "id": "397ff855-40b7-417f-87ca-4c1ee2280391",
   "metadata": {},
   "outputs": [],
   "source": [
    "\"\"\"PRODUCT INVENTORY CREATE CLASSES REPRESENTING A PRODUCT AND AN INVENTORY SYSTEM. IMPLEMENT METHODS TO ADD \n",
    "PRODUCTS TO THE INVENTORY, UPDATE PRODUCT QUANTITY AND DISPLAY AVAILABLE PRODUCTS."
   ]
  },
  {
   "cell_type": "code",
   "execution_count": 33,
   "id": "b293dc27-7954-4dcf-b83a-36f5baf578c4",
   "metadata": {},
   "outputs": [
    {
     "name": "stdout",
     "output_type": "stream",
     "text": [
      "Product\"Apple\"added to the inventory!\n",
      "Product\"Banana\"added to the inventory!\n"
     ]
    },
    {
     "ename": "AttributeError",
     "evalue": "'Inventory' object has no attribute 'display_products'",
     "output_type": "error",
     "traceback": [
      "\u001b[1;31m---------------------------------------------------------------------------\u001b[0m",
      "\u001b[1;31mAttributeError\u001b[0m                            Traceback (most recent call last)",
      "Cell \u001b[1;32mIn[33], line 27\u001b[0m\n\u001b[0;32m     25\u001b[0m inventory\u001b[38;5;241m.\u001b[39madd_product(product1)\n\u001b[0;32m     26\u001b[0m inventory\u001b[38;5;241m.\u001b[39madd_product(product2)\n\u001b[1;32m---> 27\u001b[0m inventory\u001b[38;5;241m.\u001b[39mdisplay_products()\n\u001b[0;32m     28\u001b[0m inventory\u001b[38;5;241m.\u001b[39mupdate_quantity(\u001b[38;5;124m'\u001b[39m\u001b[38;5;124mApple\u001b[39m\u001b[38;5;124m'\u001b[39m,\u001b[38;5;241m150\u001b[39m)\n\u001b[0;32m     29\u001b[0m inventory\u001b[38;5;241m.\u001b[39mdisplay_products()\n",
      "\u001b[1;31mAttributeError\u001b[0m: 'Inventory' object has no attribute 'display_products'"
     ]
    }
   ],
   "source": [
    "class Product:\n",
    "    def __init__(self,name,quantity):\n",
    "        self.name=name\n",
    "        self.quantity=quantity\n",
    "class Inventory:\n",
    "    def __init__(self):\n",
    "        self.products=[]\n",
    "    def add_product(self,product):\n",
    "        self.products.append(product)\n",
    "        print(f'Product\"{product.name}\"added to the inventory!')\n",
    "    def update_quantity(self,product_name,new_quantity):\n",
    "        for product in self.products:\n",
    "            if product.name==product_name:\n",
    "                product.quantity=new_quantity\n",
    "                print(f'Quantity of\"{product.name}\"updated to {neww_quantity}!')\n",
    "                return\n",
    "            print('Sorry, this product is not available.')\n",
    "    def display_product(self):\n",
    "        print('Products available in the inventory:')\n",
    "        for product in self.products:\n",
    "            print(f'Product:\"{product.name}\",Quantity:{product.quantity}')\n",
    "inventory = Inventory()\n",
    "product1 = Product('Apple',100)\n",
    "product2 = Product('Banana',200)\n",
    "inventory.add_product(product1)\n",
    "inventory.add_product(product2)\n",
    "inventory.display_products()\n",
    "inventory.update_quantity('Apple',150)\n",
    "inventory.display_products()"
   ]
  },
  {
   "cell_type": "code",
   "execution_count": null,
   "id": "04e63833-25c0-44bc-a0e8-5de8c57a88f4",
   "metadata": {},
   "outputs": [],
   "source": []
  },
  {
   "cell_type": "code",
   "execution_count": null,
   "id": "73bad45b-a694-4dc4-aaa7-26edade22e40",
   "metadata": {},
   "outputs": [],
   "source": []
  },
  {
   "cell_type": "code",
   "execution_count": 12,
   "id": "b5836108-fa3d-4dc6-8615-d779099e39e7",
   "metadata": {
    "tags": []
   },
   "outputs": [],
   "source": [
    "#PROBLEM 6"
   ]
  },
  {
   "cell_type": "code",
   "execution_count": null,
   "id": "91460681-51e6-445a-b635-5b0959632808",
   "metadata": {},
   "outputs": [],
   "source": [
    "\"\"\"SHAPE CALCULATION CREATE A CLASS REPRESENTING A SHAPE WITH ATTRIBUTES LIKE LENGTH, WIDTH AND HEIGHT. IMPLEMENT \n",
    "METHODS TO CALCULATE THE AREA AND PERIMETER OF THE SHAPE."
   ]
  },
  {
   "cell_type": "code",
   "execution_count": 1,
   "id": "5b2e263f-4391-4760-a662-8be851b3a513",
   "metadata": {},
   "outputs": [
    {
     "name": "stdout",
     "output_type": "stream",
     "text": [
      "Area: 50\n",
      "Perimeter: 30\n"
     ]
    }
   ],
   "source": [
    "class Shape:\n",
    "    def __init__(self,length,width,height):\n",
    "        self.length=length\n",
    "        self.width=width\n",
    "        self.height=height\n",
    "    def calculate_area(self):\n",
    "        area = self.length*self.width\n",
    "        return area\n",
    "    def calculate_perimeter(self):\n",
    "        perimeter = 2*(self.length +self.width)\n",
    "        return perimeter\n",
    "rectangle = Shape(5,10,0)\n",
    "area = rectangle.calculate_area()\n",
    "perimeter=rectangle.calculate_perimeter()\n",
    "print(\"Area:\",area)\n",
    "print(\"Perimeter:\",perimeter)\n",
    "        \n",
    "    "
   ]
  },
  {
   "cell_type": "code",
   "execution_count": null,
   "id": "fd4d24b3-1a36-4ec3-ab15-3b913a786073",
   "metadata": {},
   "outputs": [],
   "source": []
  },
  {
   "cell_type": "code",
   "execution_count": null,
   "id": "c8a89815-37d9-4ff3-a170-cae84b0e9890",
   "metadata": {},
   "outputs": [],
   "source": []
  },
  {
   "cell_type": "code",
   "execution_count": 1,
   "id": "a1d973e0-d250-4379-97c6-dc3873e9174f",
   "metadata": {},
   "outputs": [],
   "source": [
    "#PROBLEM 7"
   ]
  },
  {
   "cell_type": "code",
   "execution_count": null,
   "id": "06ddcb42-4a62-452e-a525-a18c295603b1",
   "metadata": {},
   "outputs": [],
   "source": [
    "\"\"\"STUDENT MANAGEMENT CREATE A CLASS REPRESENTING A STUDENT WITH ATTRIBUTES LIKE DTUDENTS ID, NAME AND GRADES.\n",
    "IMPLIMENT METHODS TO CALCULATE THE AVERAGE GRADE AND DISPLAY STUDENT DETAILS"
   ]
  },
  {
   "cell_type": "code",
   "execution_count": 2,
   "id": "735fdc56-0c6e-464c-8762-ab18d895a4fb",
   "metadata": {},
   "outputs": [
    {
     "name": "stdout",
     "output_type": "stream",
     "text": [
      "Student ID: 1234\n",
      "Name: John Doe\n",
      "Grades: [85, 90, 92, 88, 95]\n",
      "Average Grade: 90.0\n"
     ]
    }
   ],
   "source": [
    "class Student:\n",
    "    def __init__(self,student_id,name,grades):\n",
    "        self.student_id=student_id\n",
    "        self.name=name\n",
    "        self.grades=grades\n",
    "    def calculate_average_grade(self):\n",
    "        total_grades = sum(self.grades)\n",
    "        average_grade=total_grades/len(self.grades)\n",
    "        return average_grade\n",
    "    def display_student_details(self):\n",
    "        print(\"Student ID:\",self.student_id)\n",
    "        print(\"Name:\",self.name)\n",
    "        print(\"Grades:\",self.grades)\n",
    "        print(\"Average Grade:\",self.calculate_average_grade())\n",
    "student1 = Student(1234,\"John Doe\",[85,90,92,88,95])\n",
    "student1.display_student_details()\n"
   ]
  },
  {
   "cell_type": "code",
   "execution_count": null,
   "id": "1690e113-2f5e-4454-bdd3-d89459f229cb",
   "metadata": {},
   "outputs": [],
   "source": []
  },
  {
   "cell_type": "code",
   "execution_count": null,
   "id": "cea72005-2ac2-4418-be30-a6f4efc72b31",
   "metadata": {},
   "outputs": [],
   "source": []
  },
  {
   "cell_type": "code",
   "execution_count": 2,
   "id": "b21f1745-4087-47fa-a0f1-3755a53c59ac",
   "metadata": {
    "tags": []
   },
   "outputs": [],
   "source": [
    "# PROBLEM 8"
   ]
  },
  {
   "cell_type": "code",
   "execution_count": null,
   "id": "ed7e4336-bb6b-4fd0-9ad7-97ad72df5bdc",
   "metadata": {},
   "outputs": [],
   "source": [
    "\"\"\"EMAILS MANAGEMENT CREATE A CLASS REPRESENTING AN EMAIL WITH ATTRIBUTES LIKE SENDER, RECIPIENT, AND SUBJECT. \n",
    "IMPLEMENT METHODS TO SEND AN EMAIL AND DISPLAY EMAIL DETAILS."
   ]
  },
  {
   "cell_type": "code",
   "execution_count": 5,
   "id": "1b5bf6e4-355e-4d8b-ab59-f28998e7b146",
   "metadata": {},
   "outputs": [
    {
     "name": "stdout",
     "output_type": "stream",
     "text": [
      "Sender: sender@exxample.com\n",
      "Recipient: recipient@example.com\n",
      "Subject: Hello!\n",
      "Email sent from: sender@exxample.com\n",
      "Email sent to: recipient@example.com\n",
      "Subject: Hello!\n"
     ]
    }
   ],
   "source": [
    "class Email:\n",
    "    def __init__(self,sender,recipient,subject):\n",
    "        self.sender = sender\n",
    "        self.recipient=recipient\n",
    "        self.subject=subject\n",
    "    def send_email(self):\n",
    "        print(\"Email sent from:\",self.sender)\n",
    "        print(\"Email sent to:\",self.recipient)\n",
    "        print(\"Subject:\",self.subject)\n",
    "    def display_email_details(self):\n",
    "        print(\"Sender:\",self.sender)\n",
    "        print(\"Recipient:\",self.recipient)\n",
    "        print(\"Subject:\",self.subject)\n",
    "email1= Email(\"sender@exxample.com\",\"recipient@example.com\",\"Hello!\")\n",
    "email1.display_email_details()\n",
    "email1.send_email()"
   ]
  },
  {
   "cell_type": "code",
   "execution_count": null,
   "id": "5c702ded-968d-4209-b777-abab4043a591",
   "metadata": {},
   "outputs": [],
   "source": []
  },
  {
   "cell_type": "code",
   "execution_count": null,
   "id": "e40ff413-2da6-489f-ba4a-b4d144ec6063",
   "metadata": {},
   "outputs": [],
   "source": []
  },
  {
   "cell_type": "code",
   "execution_count": 3,
   "id": "6750acc1-e399-4fc3-be20-b51c81376569",
   "metadata": {
    "tags": []
   },
   "outputs": [],
   "source": [
    "#PROBLEM 9"
   ]
  },
  {
   "cell_type": "code",
   "execution_count": null,
   "id": "67b25e29-c3fa-4e5a-afd1-7d643fa8e421",
   "metadata": {},
   "outputs": [],
   "source": [
    "\"\"\"SOCIAL MEDIA PROFILE CREATE A CLASS REPRESENTING A SOCIAL MEDIA PROFILE WITH ATTRIBUTES LIKE USERNAME AND POSTS\n",
    "IMPLEMENT METHODS TO ADD POSTS, DISPLAY POSTS AND SEARCH FOR POSTS BY KEYWORD"
   ]
  },
  {
   "cell_type": "code",
   "execution_count": 9,
   "id": "4a0749f9-8ba1-4da6-8636-6e0d274b22c2",
   "metadata": {},
   "outputs": [
    {
     "name": "stdout",
     "output_type": "stream",
     "text": [
      "I love hiking in the mountains!\n",
      "just had a delicious dinner with friends.\n",
      "Exicited for my upcoming trip to the beach!\n",
      "Post containing the keyword'mountains':\n",
      "I love hiking in the mountains!\n"
     ]
    }
   ],
   "source": [
    "class SocialMediaProfile:\n",
    "    def __init__(self,username):\n",
    "        self.username=username\n",
    "        self.posts=[]\n",
    "    def add_post(self,post):\n",
    "        self.posts.append(post)\n",
    "    def display_posts(self):\n",
    "        if len(self.posts)==0:\n",
    "            print(\"No posts to display.\")\n",
    "        else:\n",
    "            for post in self.posts:\n",
    "                print(post)\n",
    "    def search_posts_by_keyword(self,keyword):\n",
    "        matching_posts=[]\n",
    "        for post in self.posts:\n",
    "            if keyword.lower() in post.lower():\n",
    "                matching_posts.append(post)\n",
    "        return matching_posts\n",
    "profile = SocialMediaProfile(\"my_username\")\n",
    "profile.add_post(\"I love hiking in the mountains!\")\n",
    "profile.add_post(\"just had a delicious dinner with friends.\")\n",
    "profile.add_post(\"Exicited for my upcoming trip to the beach!\")\n",
    "profile.display_posts()\n",
    "keyword=\"mountains\"\n",
    "matching_posts=profile.search_posts_by_keyword(keyword)\n",
    "print(f\"Post containing the keyword'{keyword}':\")\n",
    "for post in matching_posts:\n",
    "    print(post)"
   ]
  },
  {
   "cell_type": "code",
   "execution_count": null,
   "id": "c94d1d1c-ce51-426f-ad51-798c2e726f64",
   "metadata": {},
   "outputs": [],
   "source": []
  },
  {
   "cell_type": "code",
   "execution_count": null,
   "id": "a42fd76b-497f-4d54-8523-1b85504e13e0",
   "metadata": {},
   "outputs": [],
   "source": []
  },
  {
   "cell_type": "code",
   "execution_count": 4,
   "id": "ac57a341-d9ec-43d7-bb74-f3cb0d40fd51",
   "metadata": {
    "tags": []
   },
   "outputs": [],
   "source": [
    "#PROBLEM 10"
   ]
  },
  {
   "cell_type": "code",
   "execution_count": 6,
   "id": "54db0c00-904f-4aa0-b934-6181f6a37ec3",
   "metadata": {
    "tags": []
   },
   "outputs": [],
   "source": [
    "\"\"\"TO DO LIST CREATE A CLASS REPRESENTING A TO DO LIST WITH ATTRIBUTES LIKE TASKS AND DUE DATES IMPLEMENT METHODS\n",
    "TO ADD TASKS, MARK TASKS AS COMPLETED, AND DISPLAY PENDING TASKS"
   ]
  },
  {
   "cell_type": "code",
   "execution_count": 4,
   "id": "4ca16d23-6dbb-479f-9899-ca040a25c14c",
   "metadata": {},
   "outputs": [
    {
     "ename": "IndentationError",
     "evalue": "unexpected indent (369404665.py, line 10)",
     "output_type": "error",
     "traceback": [
      "\u001b[1;36m  Cell \u001b[1;32mIn[4], line 10\u001b[1;36m\u001b[0m\n\u001b[1;33m    print(f\"Task'{task}'marked as completed.\")\u001b[0m\n\u001b[1;37m    ^\u001b[0m\n\u001b[1;31mIndentationError\u001b[0m\u001b[1;31m:\u001b[0m unexpected indent\n"
     ]
    }
   ],
   "source": [
    "class ToDoList:\n",
    "    def __init__(self):\n",
    "        self.tasks =[]\n",
    "    def add_task(self,task,due_date):\n",
    "        self.tasks.append({\"task\":task,\"due_date\":due_date})\n",
    "        print(f\"Task'{task}'with due date'{due_date}'added to the ToDo list.\")\n",
    "    def mark_task_completed(self,task):\n",
    "        for t in self.tasks:\n",
    "            if t[\"task\"]==task:t[\"completed\"]=True\n",
    "                print(f\"Task'{task}'marked as completed.\")\n",
    "                return\n",
    "        print(f\"Task'{task}' not found in the ToDo list.\")\n",
    "    def display_pending_tasks(self):\n",
    "        pending_tasks=[t for t in self.tasks if \"completed\" not in t]\n",
    "        if pending_tasks:\n",
    "            print(\"No pending tasks.\")\n",
    "            for t in pending_tasks:\n",
    "                 print(f\"-{t['task']}(Due:{t['due_date']})\")\n",
    "        else:\n",
    "            print(\"No pending tasks at moment.\")\n",
    "my_todo_list=T0DoList()\n",
    "my_todo_list.add_task(\"Complete project\",\"2023-11-30\")\n",
    "my_todo_list.add_task(\"Buy groceries\",\"2023-11-25\")\n",
    "my_todo_list.display_pending_tasks()\n",
    "my_todo_list.mark_task_completed(\"Buy groceries\")\n",
    "my_todo_list.display_pending_tasks()\n",
    "            \n",
    "                  "
   ]
  },
  {
   "cell_type": "code",
   "execution_count": null,
   "id": "e5b5cb56-0379-4e1e-b26c-71a556597a50",
   "metadata": {},
   "outputs": [],
   "source": []
  }
 ],
 "metadata": {
  "kernelspec": {
   "display_name": "Python 3 (ipykernel)",
   "language": "python",
   "name": "python3"
  },
  "language_info": {
   "codemirror_mode": {
    "name": "ipython",
    "version": 3
   },
   "file_extension": ".py",
   "mimetype": "text/x-python",
   "name": "python",
   "nbconvert_exporter": "python",
   "pygments_lexer": "ipython3",
   "version": "3.11.4"
  }
 },
 "nbformat": 4,
 "nbformat_minor": 5
}
